{
  "nbformat": 4,
  "nbformat_minor": 0,
  "metadata": {
    "colab": {
      "provenance": [],
      "authorship_tag": "ABX9TyMNXJKBeDNpJzq8vwmZg2WE",
      "include_colab_link": true
    },
    "kernelspec": {
      "name": "python3",
      "display_name": "Python 3"
    },
    "language_info": {
      "name": "python"
    }
  },
  "cells": [
    {
      "cell_type": "markdown",
      "metadata": {
        "id": "view-in-github",
        "colab_type": "text"
      },
      "source": [
        "<a href=\"https://colab.research.google.com/github/lyn12111/EXE2201228-3/blob/main/EXE2201228_3.ipynb\" target=\"_parent\"><img src=\"https://colab.research.google.com/assets/colab-badge.svg\" alt=\"Open In Colab\"/></a>"
      ]
    },
    {
      "cell_type": "code",
      "execution_count": 1,
      "metadata": {
        "colab": {
          "base_uri": "https://localhost:8080/"
        },
        "id": "9DcV-hGu0bGH",
        "outputId": "d60f8131-46fd-4a05-b923-5998c1aec75c"
      },
      "outputs": [
        {
          "output_type": "stream",
          "name": "stdout",
          "text": [
            "x의 값을 입력하시오.5\n",
            "y의 값을 입력하시오.4\n",
            "x와 y의 합은: 9\n",
            "x와 y의 차는: 1\n",
            "x와 y의 곱은: 20\n",
            "x와 y의 평균은: 4.5\n",
            "x와 y의 큰수는 : 5\n",
            "x와 y의 작은수는 : 4\n"
          ]
        }
      ],
      "source": [
        "x=int(input(\"x의 값을 입력하시오:\"))\n",
        "y=int(input(\"y의 값을 입력하시오:\"))\n",
        "\n",
        "print(\"x와 y의 합은:\",x+y)\n",
        "print(\"x와 y의 차는:\",x-y)\n",
        "print(\"x와 y의 곱은:\",x*y)\n",
        "print(\"x와 y의 평균은:\",(x+y)/2)\n",
        "print(\"x와 y의 큰수는 :\",max(x,y)) #max(x,y)함수는 x,y중 큰 수를 찾아내는 함수이다.\n",
        "print(\"x와 y의 작은수는 :\",min(x,y)) #min(x,y)함수는 x,y중 작은 수을 찾아내는 함수이다."
      ]
    },
    {
      "cell_type": "code",
      "source": [
        "r=float(input(\"r의 값을 입력하시오.\")) #변수 r의 값을 float형으로 사용자에게 받는다.\n",
        "h=float(input(\"h의 값을 입력하시오.\")) #변수 h의 값을 float형으로 사용자에게 받는다.\n",
        "vol=3.141592*r**2*h                    #vol=부피\n",
        "print(\"원기둥의 부피는\",vol,\"입니다.\")"
      ],
      "metadata": {
        "colab": {
          "base_uri": "https://localhost:8080/"
        },
        "id": "FMEvTw5B2Nq5",
        "outputId": "59a0cf25-c7be-4b12-cd01-2a9791b6cf6c"
      },
      "execution_count": 7,
      "outputs": [
        {
          "output_type": "stream",
          "name": "stdout",
          "text": [
            "r의 값을 입력하시오.10\n",
            "h의 값을 입력하시오.100\n",
            "원기둥의 부피는 31415.92 입니다.\n"
          ]
        }
      ]
    },
    {
      "cell_type": "code",
      "source": [
        "number=int(input(\"정수를 입력하시오:\"))\n",
        "sum=0                     #변수 sum을 초기화 0으로 한다.\n",
        "sum=sum+ number%10\n",
        "number=number//10\n",
        "\n",
        "print(\"자리수의 합:\",number)"
      ],
      "metadata": {
        "colab": {
          "base_uri": "https://localhost:8080/"
        },
        "id": "JrgMX5oe3W5R",
        "outputId": "e5e902fe-ebf7-4479-fb01-f11bedf28fad"
      },
      "execution_count": 5,
      "outputs": [
        {
          "output_type": "stream",
          "name": "stdout",
          "text": [
            "정수를 입력하시오:1234\n",
            "자리수의 합: 127\n"
          ]
        }
      ]
    },
    {
      "cell_type": "code",
      "source": [
        "number=int(input(\"정수를 입력하시오:\"))\n",
        "sum=0                     #변수 sum을 초기화 0으로 한다.\n",
        "sum=sum+ number%10\n",
        "number=number//10\n",
        "sum=sum+ number%10\n",
        "number=number//10\n",
        "sum=sum+ number%10\n",
        "number=number//10\n",
        "sum=sum+ number%10\n",
        "number=number//10\n",
        "print(\"자리수의 합:\",str(sum))"
      ],
      "metadata": {
        "colab": {
          "base_uri": "https://localhost:8080/"
        },
        "outputId": "5b12b3f3-2a97-4fc6-d31a-cf2624221df9",
        "id": "pA8Mjqxt7d8v"
      },
      "execution_count": 11,
      "outputs": [
        {
          "output_type": "stream",
          "name": "stdout",
          "text": [
            "정수를 입력하시오:12345\n",
            "자리수의 합: 14\n"
          ]
        }
      ]
    },
    {
      "cell_type": "code",
      "source": [
        "x1=int(input(\"x1값을 입력하시오:\"))\n",
        "x2=int(input(\"x2값을 입력하시오:\"))\n",
        "\n",
        "y1=int(input(\"y1값을 입력하시오:\"))\n",
        "y2=int(input(\"y2값을 입력하시오:\"))\n",
        "\n",
        "dist=((x2-x1)**2+(y2-y1)**2)**0.5\n",
        "print(\"두점 사이의 거리=\",dist,\"입니다.\")"
      ],
      "metadata": {
        "colab": {
          "base_uri": "https://localhost:8080/"
        },
        "id": "6FXmvCf75BnY",
        "outputId": "77d70489-bc56-42cf-f447-da9516f54196"
      },
      "execution_count": 13,
      "outputs": [
        {
          "output_type": "stream",
          "name": "stdout",
          "text": [
            "x1값을 입력하시오:0\n",
            "x2값을 입력하시오:100\n",
            "y1값을 입력하시오:0\n",
            "y2값을 입력하시오:100\n",
            "두점 사이의 거리= 141.4213562373095\n"
          ]
        }
      ]
    },
    {
      "cell_type": "code",
      "source": [
        "import time\n",
        "fsecond=time.time()\n",
        "total_sec=int(fsecond)\n",
        "total_min=total_sec//60\n",
        "minute=total_min%60\n",
        "total_hour=total_min//60\n",
        "hour=total_hour%24\n",
        "\n",
        "print(\"현재시각은 (영국 그리니치 표준시각):\",str(hour)+\"시\"+str(minute)+\"분\")"
      ],
      "metadata": {
        "colab": {
          "base_uri": "https://localhost:8080/"
        },
        "id": "M5Ej37wdCTCG",
        "outputId": "6ba3ba44-402e-459e-af36-79821c3ff4af"
      },
      "execution_count": 18,
      "outputs": [
        {
          "output_type": "stream",
          "name": "stdout",
          "text": [
            "현재시각은 (영국 그리니치 표준시각): 3시50분\n"
          ]
        }
      ]
    }
  ]
}